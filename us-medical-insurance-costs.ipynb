{
 "cells": [
  {
   "cell_type": "markdown",
   "metadata": {},
   "source": [
    "# U.S. Medical Insurance Costs"
   ]
  },
  {
   "cell_type": "markdown",
   "metadata": {},
   "source": [
    "\n",
    "## Scope of the project\n"
   ]
  },
  {
   "cell_type": "markdown",
   "metadata": {},
   "source": [
    "### What do we want to analyse?\n",
    "- What profile is considered the most high risk? (for each column, which group of people receive the highest charge)\n",
    "- How related are gender and insurance cost\n",
    "- What bmi range receives the lowest insurance costs on average\n",
    "- What region has the highest insurance costs on average\n",
    "  \n",
    "### What do we want to know about the data set?\n",
    "- What is the variation between the different observations in the data set\n",
    "- How many observations are in the data set\n",
    "- Is the data set biased\n",
    "\n",
    "### Data\n",
    "- Insurance.csv dataset containing the age, sex, bmi, no. of children, smoker status, region & insurance charge of 1338 individuals \n",
    "~\n"
   ]
  },
  {
   "cell_type": "code",
   "execution_count": 158,
   "metadata": {},
   "outputs": [
    {
     "name": "stdout",
     "output_type": "stream",
     "text": [
      "The total number of individuals in the sample is\n",
      "1338 individuals\n",
      "The total of everyones' insurance charge is\n",
      "$17755824.99\n",
      "The average of everyones' insurance charge is\n",
      "$13270.42\n"
     ]
    }
   ],
   "source": [
    "#import the csv library \n",
    "import csv\n",
    "\n",
    "number_of_individuals = 0\n",
    "charges = []\n",
    "total_charges = 0\n",
    "\n",
    "#open the csv file and convert it into a dictionary using DictReader\n",
    "with open ('insurance.csv', newline = '') as insurances:\n",
    "    insurance_content = csv.DictReader(insurances)\n",
    "\n",
    "#iterate through the dictionary, counting how many individuals are in the sample\n",
    "    for row in insurance_content:\n",
    "        number_of_individuals += 1\n",
    "        charges.append(row['charges'])\n",
    "print(f'The total number of individuals in the sample is\\n{number_of_individuals} individuals')\n",
    "\n",
    "#calculate the total amount of insurance charges\n",
    "for amount in charges:\n",
    "    total_charges += float(amount)\n",
    "\n",
    "print(f'The total of everyones\\' insurance charge is\\n${str(round(total_charges, 2))}')\n",
    "\n",
    "#calculate the average insurance charges\n",
    "average_insurance_cost = total_charges/number_of_individuals\n",
    "print(f'The average of everyones\\' insurance charge is\\n${str(round(average_insurance_cost, 2))}')"
   ]
  },
  {
   "cell_type": "markdown",
   "metadata": {},
   "source": [
    "#### We now want to evaluate the highest risk groups according to the different categories available for classification,\n",
    "\n"
   ]
  },
  {
   "cell_type": "code",
   "execution_count": 11,
   "metadata": {},
   "outputs": [
    {
     "name": "stdout",
     "output_type": "stream",
     "text": [
      "Southeast Count: 364 Total Charges: 5363689.780000005\n",
      "Southwest Count: 325 Total Charges: 4012754.69\n",
      "Northeast Count: 324 Total Charges: 4343668.610000001\n",
      "Northwest Count: 325 Total Charges: 4035711.93\n"
     ]
    }
   ],
   "source": [
    "#Classifying by 'Region' \n",
    "\n",
    "import csv\n",
    "\n",
    "# Open the CSV file in read mode\n",
    "with open('insurance.csv', 'r', newline='') as insurances:\n",
    "    insurance_content = csv.DictReader(insurances)\n",
    "\n",
    "    # Initialize counters and accumulators for each region\n",
    "    southeast_count = 0\n",
    "    southeast_charges = 0.0\n",
    "    southwest_count = 0\n",
    "    southwest_charges = 0.0\n",
    "    northeast_count = 0\n",
    "    northeast_charges = 0.0\n",
    "    northwest_count = 0\n",
    "    northwest_charges = 0.0\n",
    "    \n",
    "    # Iterate through each row in the CSV data\n",
    "    for row in insurance_content:\n",
    "        try:\n",
    "            # Convert 'charges' to float for calculations\n",
    "            charge = float(row['charges'])\n",
    "        except ValueError:\n",
    "            # Skip rows where 'charges' cannot be converted to float\n",
    "            continue\n",
    "\n",
    "        # Check region and update counts and charges accordingly\n",
    "        region = row['region'].lower()\n",
    "        if region == 'southeast':\n",
    "            southeast_count += 1\n",
    "            southeast_charges += round(charge,2)\n",
    "        elif region == 'southwest':\n",
    "            southwest_count += 1\n",
    "            southwest_charges += round(charge,2)\n",
    "        elif region == 'northeast':\n",
    "            northeast_count += 1\n",
    "            northeast_charges += round(charge,2)\n",
    "        elif region == 'northwest':\n",
    "            northwest_count += 1\n",
    "            northwest_charges += round(charge,2)\n",
    "            \n",
    "# Print the results\n",
    "print(\"Southeast Count:\", southeast_count, \"Total Charges:\", southeast_charges)\n",
    "print(\"Southwest Count:\", southwest_count, \"Total Charges:\", southwest_charges)\n",
    "print(\"Northeast Count:\", northeast_count, \"Total Charges:\", northeast_charges)\n",
    "print(\"Northwest Count:\", northwest_count, \"Total Charges:\", northwest_charges)"
   ]
  },
  {
   "cell_type": "code",
   "execution_count": 33,
   "metadata": {},
   "outputs": [
    {
     "name": "stdout",
     "output_type": "stream",
     "text": [
      "Smoker Count: 274 Smoker Charges: 8781763.52 Smoker Average Charge: 32050.23\n",
      "Non Smoker Count: 1064 Non Smoker Charges: 8974061.47 Non Smoker Average Charge: 8434.27\n"
     ]
    }
   ],
   "source": [
    "#Classifying by 'Smoker'\n",
    "\n",
    "import csv \n",
    "\n",
    "with open('insurance.csv', 'r', newline='') as insurances:\n",
    "    insurance_content = list(csv.DictReader(insurances))\n",
    "    \n",
    "    smoker_count = sum(1 for row in insurance_content if row['smoker'] == 'yes')\n",
    "    smoker_total_charges = round(sum(float(row['charges']) for row in insurance_content if row['smoker'] == 'yes'),2)\n",
    "\n",
    "    non_smoker_count = sum(1 for row in insurance_content if row['smoker'] == 'no')\n",
    "    non_smoker_total_charges = round(sum(float(row['charges']) for row in insurance_content if row['smoker'] == 'no'),2)\n",
    "\n",
    "print(\"Smoker Count:\", smoker_count, \"Smoker Charges:\", smoker_total_charges, 'Smoker Average Charge:', round(smoker_total_charges/smoker_count, 2))\n",
    "print(\"Non Smoker Count:\", non_smoker_count, \"Non Smoker Charges:\", non_smoker_total_charges, 'Non Smoker Average Charge:', round(non_smoker_total_charges/non_smoker_count, 2))"
   ]
  },
  {
   "cell_type": "code",
   "execution_count": 3,
   "metadata": {},
   "outputs": [
    {
     "name": "stdout",
     "output_type": "stream",
     "text": [
      "Female Count: 662 Female Charges: 8321061.19 Female Average Charges: 12569.58\n",
      "Male Count: 676 Male Charges: 9434763.8 Male Average Charges: 13956.75\n"
     ]
    }
   ],
   "source": [
    "#Classifying by gender\n",
    "\n",
    "import csv \n",
    "\n",
    "with open('insurance.csv', 'r', newline='') as insurances:\n",
    "    insurance_content = list(csv.DictReader(insurances))\n",
    "    \n",
    "    female_count = sum(1 for row in insurance_content if row['sex'] == 'female')\n",
    "    female_total_charges = round(sum(float(row['charges']) for row in insurance_content if row['sex'] == 'female'),2)\n",
    "\n",
    "    male_count = sum(1 for row in insurance_content if row['sex'] == 'male')\n",
    "    male_total_charges = round(sum(float(row['charges']) for row in insurance_content if row['sex'] == 'male'),2)\n",
    "\n",
    "print(\"Female Count:\", female_count, \"Female Charges:\", female_total_charges, 'Female Average Charges:', round(female_total_charges/female_count, 2))\n",
    "print(\"Male Count:\", male_count, \"Male Charges:\", male_total_charges, 'Male Average Charges:', round(male_total_charges/male_count, 2))"
   ]
  },
  {
   "cell_type": "code",
   "execution_count": 21,
   "metadata": {},
   "outputs": [
    {
     "name": "stdout",
     "output_type": "stream",
     "text": [
      "The average insurance cost for the 137 peope aged under 20 is €8407.349489051094\n",
      "The average insurance cost for the 280 peope aged under 20 is €9561.751035714287\n",
      "The average insurance cost for the 257 peope aged under 20 is €11738.784085603116\n",
      "The average insurance cost for the 279 peope aged under 20 is €14399.203548387097\n",
      "The average insurance cost for the 271 peope aged under 20 is €16495.232656826567\n",
      "The average insurance cost for the 114 peope aged under 20 is €21248.021842105274\n"
     ]
    }
   ],
   "source": [
    "#Classifying by age\n",
    "\n",
    "import csv \n",
    "\n",
    "with open('insurance.csv', 'r', newline='') as insurances:\n",
    "    insurance_content = list(csv.DictReader(insurances))\n",
    "\n",
    "    zero_twenty = 0\n",
    "    zero_twenty_count = 0\n",
    "    twenty_29 = 0\n",
    "    twenty_29_count = 0\n",
    "    thirty_39 = 0\n",
    "    thirty_39_count = 0\n",
    "    forty_49 = 0\n",
    "    forty_49_count = 0 \n",
    "    fifty_59 = 0\n",
    "    fifty_59_count = 0\n",
    "    sixty_69 = 0\n",
    "    sixty_69_count = 0\n",
    "    \n",
    "   # Iterate through each row in the CSV data\n",
    "    for row in insurance_content:\n",
    "        try:\n",
    "            # Convert 'charges' to float for calculations\n",
    "            charge = float(row['charges'])\n",
    "        except ValueError:\n",
    "            # Skip rows where 'charges' cannot be converted to float\n",
    "            continue\n",
    "\n",
    "        # Check region and update counts and charges accordingly\n",
    "        age = int(row['age'])\n",
    "        if age < 20:\n",
    "            zero_twenty_count += round(charge,2)\n",
    "            zero_twenty += 1\n",
    "        elif age < 30:\n",
    "            twenty_29_count += round(charge,2)\n",
    "            twenty_29 += 1\n",
    "        elif age < 40:\n",
    "            thirty_39_count += round(charge,2)\n",
    "            thirty_39 += 1\n",
    "        elif age < 50:\n",
    "            forty_49_count += round(charge,2)\n",
    "            forty_49 += 1\n",
    "        elif age < 60:\n",
    "            fifty_59_count += round(charge,2)\n",
    "            fifty_59 += 1\n",
    "        else:\n",
    "            sixty_69_count += round(charge,2)\n",
    "            sixty_69 += 1\n",
    "\n",
    "print(f'The average insurance cost for the {zero_twenty} peope aged under 20 is €{zero_twenty_count/zero_twenty}')\n",
    "print(f'The average insurance cost for the {twenty_29} peope aged under 20 is €{twenty_29_count/twenty_29}')\n",
    "print(f'The average insurance cost for the {thirty_39} peope aged under 20 is €{thirty_39_count/thirty_39}')\n",
    "print(f'The average insurance cost for the {forty_49} peope aged under 20 is €{forty_49_count/forty_49}')\n",
    "print(f'The average insurance cost for the {fifty_59} peope aged under 20 is €{fifty_59_count/fifty_59}')\n",
    "print(f'The average insurance cost for the {sixty_69} peope aged under 20 is €{sixty_69_count/sixty_69}')"
   ]
  },
  {
   "cell_type": "code",
   "execution_count": 31,
   "metadata": {},
   "outputs": [
    {
     "name": "stdout",
     "output_type": "stream",
     "text": [
      "Low BMI: 631 Low BMI charges: 6760323.81 Low BMI Average: 10713.67\n",
      "High BMI: 705 High BMI charges: 10970453.06 High BMI Average: 15560.93\n"
     ]
    }
   ],
   "source": [
    "import csv \n",
    "\n",
    "with open('insurance.csv', 'r', newline='') as insurances:\n",
    "    insurance_content = list(csv.DictReader(insurances))\n",
    "    \n",
    "    low_bmi_count = sum(1 for row in insurance_content if float(row['bmi']) < 30)\n",
    "    low_bmi_charge = round(sum(float(row['charges']) for row in insurance_content if float(row['bmi']) < 30),2)\n",
    "\n",
    "    high_bmi_count = sum(1 for row in insurance_content if float(row['bmi']) > 30)\n",
    "    high_bmi_charge = round(sum(float(row['charges']) for row in insurance_content if float(row['bmi']) > 30),2)\n",
    "\n",
    "print(\"Low BMI:\", low_bmi_count, \"Low BMI charges:\", low_bmi_charge, 'Low BMI Average:', round(low_bmi_charge/low_bmi_count, 2))\n",
    "print(\"High BMI:\", high_bmi_count, \"High BMI charges:\", high_bmi_charge, 'High BMI Average:', round(high_bmi_charge/high_bmi_count, 2))"
   ]
  }
 ],
 "metadata": {
  "kernelspec": {
   "display_name": "Python 3 (ipykernel)",
   "language": "python",
   "name": "python3"
  },
  "language_info": {
   "codemirror_mode": {
    "name": "ipython",
    "version": 3
   },
   "file_extension": ".py",
   "mimetype": "text/x-python",
   "name": "python",
   "nbconvert_exporter": "python",
   "pygments_lexer": "ipython3",
   "version": "3.12.4"
  }
 },
 "nbformat": 4,
 "nbformat_minor": 4
}
